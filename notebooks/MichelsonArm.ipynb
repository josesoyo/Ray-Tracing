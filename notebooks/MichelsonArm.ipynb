{
 "cells": [
  {
   "cell_type": "markdown",
   "metadata": {},
   "source": [
    "# Interferometer arm noise\n",
    "In this IFSharp notebook I am going to simulate the noise that appears on the interferometer arm. The idea is to follow *Vinet et.al.* article called *Scattered light noise in gavitational wave interferometric detectors: A statistical approach*.  \n",
    "<img src=\"img/GWInterferometer.jpg\" width=400 height=400/>\n",
    "Even if this is not going to be the good version, I want to prove that the method I have developed based on the paper works and gives some similar result to the obtained on the paper for the interferometer noise, even if it cannot be compared. I say that because they implement directly $n(f)$ of the tube noise instead of implementing $X(t)$. This makes that there's missing information that I don't know, like the amplitude of the tube vibration. But, in any case the best solution should be:\n",
    " 100. $A \\ll\\lambda/2 $ and thus there's no upconversion.\n",
    " 9. Case where the amplitude of the vibration is bigger than the wavelenght\n",
    "\n",
    "<img src=\"img/vibratingWall.jpg\" width=400 height=400/>\n",
    "\n",
    "Also there are more points that will be different between my simulation and the original ones, so I need to be careful when I decide to compare both results."
   ]
  },
  {
   "cell_type": "markdown",
   "metadata": {},
   "source": [
    "##### Always the first thing that must be done is to reference the libraries and open them\n"
   ]
  },
  {
   "cell_type": "code",
   "execution_count": 1,
   "metadata": {
    "collapsed": false
   },
   "outputs": [],
   "source": [
    "// test on forward ray tacing\n",
    "#r @\"..\\Types\\bin\\Debug\\Types.dll\"\n",
    "#r @\"..\\RayTracing\\bin\\Debug\\RayTracing.dll\"\n",
    "#r @\"..\\PostProcess\\bin\\Debug\\PostProcess.dll\"\n",
    "//Math.Net\n",
    "#r @\"..\\packages\\MathNet.Numerics.3.11.1\\lib\\net40\\MathNet.Numerics.dll\"\n",
    "#r @\"..\\packages\\MathNet.Numerics.FSharp.3.11.1\\lib\\net40\\MathNet.Numerics.FSharp.dll\"\n",
    "\n",
    "// libraries referenced\n",
    "open Types.Algebra\n",
    "open Types.ObjectTypes\n",
    "open Types.types\n",
    "open RayTracing.intersections\n",
    "open Microsoft.FSharp.Data.UnitSystems.SI.UnitSymbols\n",
    "open ForwardRayTracing\n",
    "open SaveSensorInfo\n",
    "open Random\n",
    "open System.IO\n",
    "open MathNet.Numerics.IntegralTransforms\n",
    "open System.Numerics\n",
    "open PostProcess.Noise"
   ]
  },
  {
   "cell_type": "markdown",
   "metadata": {},
   "source": [
    "##### And the set up is:\n",
    "\n",
    "**Tube**:  \n",
    "$R_{tube} =  0.6m $  \n",
    "$L_{tube} = 3\\cdot 10^3 m$    \n",
    "$BRDF = 1/2\\pi$ ??\n",
    "\n",
    "**Mirrors**:  \n",
    "$R_{mirror} =  0.175m$ ($0.170m$ with coating)  \n",
    "$b(\\theta) = k/\\theta^2$ (and $K \\sim 0.01006406986$ with $\\theta_{min} = 10^{-2}$)  \n",
    "$\\epsilon \\sim 10^{-6}$  \n",
    "Even if they are not directly used, the RoC are:  \n",
    "$RoC_{Input]}=  1420 m$  \n",
    "$RoC_{End} =  1683 m $  \n",
    "This information of radius with the Length of the cavity shows that we have a **Near concentric** cavity.\n",
    "\n",
    "**About the cavity**:  \n",
    "$P_{stored} = 0.8 MW$ (*Aproximately*)  \n",
    "\n",
    "**Ray & Beam**:  \n",
    "Number of Rays = ?\n",
    "$\\lambda = 1.064\\cdot 10^{-6} m$  \n",
    "$\\sigma = 0.028 m $ (waist) obtained considering that \n",
    "$$\\omega_{1} \\approx \\omega_{2} \\approx \\dfrac{L\\lambda}{\\pi} \\sqrt{\\dfrac{4 L}{\\Delta L}}$$\n",
    "\n",
    "which becomes in program values of:"
   ]
  },
  {
   "cell_type": "code",
   "execution_count": 2,
   "metadata": {
    "collapsed": false
   },
   "outputs": [],
   "source": [
    "let Rtube, Ltube = 0.6<m>, 3e3<m>\n",
    "let Rmirror = 0.175<m>\n",
    "\n",
    "let wavelength = WaveLength(1.064e-6<m>)\n",
    "let BeamWaist = 0.028<m>\n",
    "let Nrays = 100\n"
   ]
  },
  {
   "cell_type": "markdown",
   "metadata": {},
   "source": [
    "To define the objects, the mirrors will be defined as 2 discs each one with the measure of the mirror and the tube will be a cylinder.  \n",
    "*I will consider the convention that says that the zero position is the mirror closer to the Beam Splitter* (even if here it doesn't exit).\n",
    "##### Mirrors and Tube"
   ]
  },
  {
   "cell_type": "code",
   "execution_count": 10,
   "metadata": {
    "collapsed": false
   },
   "outputs": [],
   "source": [
    "// Define the cylinder\n",
    "let t , Amplitude = [|(0.)..(1./400.)..4.|], Vector(0.,0.,0.15e-6)   // Temporal series for the phase scan\n",
    "let Amplitude_big =  Vector(0.,0.,2e-6)\n",
    "let noise = ([|(10uy,Amplitude,0.)|] , t)    // (f,) \n",
    "let noise_upconversion = ([|(10uy,Amplitude_big,0.)|], t)\n",
    "let tube = cylinder(Rtube,Ltube,Point(0.,0.,0.),UnitVector(1.,0.,0.),\"Tube\", Sensor(), noise_upconversion)\n",
    "\n",
    "// define the mirrors\n",
    "let m1 = disc(Point(0.,0.,0.), float Rmirror, UnitVector(1.,0.,0.),\"Mirror\") \n",
    "let m2 = disc(Point(float Ltube,0.,0.), float Rmirror, UnitVector(-1.,0.,0.),\"Mirror\", true)\n",
    "let objs = [|Cylinder(tube); Disc(m1);Disc(m2)|]"
   ]
  },
  {
   "cell_type": "code",
   "execution_count": 11,
   "metadata": {
    "collapsed": false
   },
   "outputs": [
    {
     "data": {
      "text/plain": [
       "false"
      ]
     },
     "metadata": {},
     "output_type": "display_data"
    }
   ],
   "source": [
    "tube.Sensor.Exists |> Display"
   ]
  },
  {
   "cell_type": "markdown",
   "metadata": {},
   "source": [
    "### How the rays interact with the tube?  \n",
    "Here I define the materials that should be 2:\n",
    "  - Mirror: Dummy\n",
    "  - Tube: Steel/ stainless steel\n",
    "  \n",
    "Future updates of this notebook should include the addition of other materials like *Black absorving gas* for the baffles.  \n",
    "Another important point that I haven't considered well on my code is how to deal with a material that changes its properties with the angle of incidence, a real BRDF.\n",
    "\n",
    "<img src=\"img/Stainless steel.jpg\" width=400 height=400/>\n"
   ]
  },
  {
   "cell_type": "code",
   "execution_count": 12,
   "metadata": {
    "collapsed": false
   },
   "outputs": [],
   "source": [
    "let mout = [|{MatName= \"Mirror\"; R=1.; T=0.;\n",
    "                 n=(2.,WaveLength(1.06e-6 |> LanguagePrimitives.FloatWithMeasure<m>));LambPPM= 1e-6};\n",
    "             {MatName= \"Tube\"; R=1.; T=0.0; \n",
    "                 n=(1.3,WaveLength(1.06e-6 |> LanguagePrimitives.FloatWithMeasure<m>));LambPPM= 0.};\n",
    "             {MatName= \"air\"; R=0.; T=1.; \n",
    "                 n=(1.,WaveLength(1.06e-6 |> LanguagePrimitives.FloatWithMeasure<m>));LambPPM= 0.}\n",
    "             |]\n",
    "\n",
    "let mat = dict (mout|> Array.map(fun x -> (x.MatName,x)))"
   ]
  },
  {
   "cell_type": "markdown",
   "metadata": {},
   "source": [
    "### How rays are generated?\n",
    "\n",
    "Rays should follow a gaussian distribution with a diameter $\\sigma$ based on the beam diameter at the mirror position ($2.8cm$) and with the direction based on it's $b(\\theta) = k/\\theta$ for a $ \\pi/2 \\geq\\theta \\geq \\theta_{min}$.  \n",
    "From this work, I still need to discover how I can generate a random variable $\\Theta$ which follows the previously specified pdf. This function has been defined as inv_sqr() on the *Random module* inside *Types* project.\n",
    "\n",
    "Then I need to define $\\phi$ which is equally probably on every direction, $\\phi = 2\\pi X$. This means that once I have the pair $(\\theta, \\phi)$, I must transform from spherical to cartesian coordinates to define the ray direction. Thus,\n",
    "$$ \\vec {u}_{vec} = (cos(\\phi)\\cdot sin(\\theta), sin(\\phi)\\cdot sin(\\theta), cos(\\theta)) \\; |> \\;ChangeCoordinates$$\n",
    "$$ Point = RandomGauss\\;|>\\; ChangeCoordinates$$\n",
    "\n",
    "To see that the function defined to generate $\\theta$ works, I have coded a histogram:"
   ]
  },
  {
   "cell_type": "code",
   "execution_count": 8,
   "metadata": {
    "collapsed": false
   },
   "outputs": [],
   "source": [
    "let hist (data:float[]) (nbins:int)=\n",
    "    // Function to create a histogram\n",
    "    let ma, mi = (data |> Array.max)+1e-10 , data |> Array.min \n",
    "    let wide = (ma-mi)/float(nbins)\n",
    "    let xaxis = [|1..nbins|] |> Array.map(fun x -> float(x)*wide/2.+mi)\n",
    "    let out = Array.init nbins (fun _ -> 0.) // initialize the output \n",
    "    data \n",
    "    |> Seq.iter( fun x -> \n",
    "                        let whichbin = int((x-mi)/wide)\n",
    "                        printfn \"%d\" whichbin\n",
    "                        (out.[whichbin] <- out.[whichbin]+1.)\n",
    "                    )\n",
    "    let norm = out |> Array.sum  // normalization factor\n",
    "    (out, xaxis) ||> Array.map2(fun x y -> ( y, (x/norm)))\n",
    "  "
   ]
  },
  {
   "cell_type": "code",
   "execution_count": 7,
   "metadata": {
    "collapsed": false
   },
   "outputs": [
    {
     "data": {
      "image/png": "[encoded data removed]"
     },
     "execution_count": 7,
     "metadata": {},
     "output_type": "execute_result"
    }
   ],
   "source": [
    "  \n",
    "let inv_sqr() =\n",
    "    // Generate a random number based on the \n",
    "    // pdf = k/theta^2 with theta € [th_min, pi/2] \n",
    "    let k =  0.01006406986 // based on the current thmin = 10^-2\n",
    "    let thmin= 1e-2\n",
    "    let r = rnd.NextDouble()\n",
    "    k*thmin/(k-thmin*r)\n",
    "let test = [|0..100000|] |> Array.map(fun _ -> inv_sqr())\n",
    "let htest = hist test 50\n",
    "Chart.Line(htest)\n",
    "|> Chart.WithXAxis(Min=0.,Max=0.8, Title=\"Angle(rad)\")\n",
    "|> Chart.WithSize(500, 500)//|> Display"
   ]
  },
  {
   "cell_type": "markdown",
   "metadata": {},
   "source": [
    "remember, **Nrays** is the value used to define the number of rays that will be traced.  \n",
    "\n",
    "Thus, the rays for this configuration are generated as:"
   ]
  },
  {
   "cell_type": "code",
   "execution_count": 13,
   "metadata": {
    "collapsed": false
   },
   "outputs": [],
   "source": [
    "let NewRay (pos:Point) (normal:UnitVector) (sigma:float) (rMax:float) =\n",
    "    let rotpoint = Matrix.RotateVector(UnitVector(0.,0.,1.),normal)\n",
    "    let rec rfPos() =  // position function\n",
    "        let orig = Samp2DGauss(sigma,0.) |> fun x -> rotpoint.RotatePoint(Point(x.[0],x.[1],0.))\n",
    "        if orig.ToVector().Module() > rMax then rfPos()\n",
    "        else\n",
    "            orig |> fun px -> px.MoveAndCreateNew(pos) \n",
    "    let rPos = rfPos()\n",
    "    let rvect = // direction\n",
    "        let theta = inv_sqr()\n",
    "        let phi = 2.*PI*rnd.NextDouble()\n",
    "        let stheta = sin(theta)\n",
    "        UnitVector(cos(phi)*stheta, sin(phi)*stheta, cos(theta))\n",
    "        |> fun x -> rotpoint.RotateVector(x)\n",
    "    {\n",
    "         Wavelenght = wavelength;\n",
    "         from = rPos; uvec = rvect;\n",
    "         MaxLength = infi;\n",
    "         OpticalPathTravelled = 0.<m>;\n",
    "         NumBounces = 0uy; bounces = [];\n",
    "         MaxDispersions = 3uy;\n",
    "         NumOfParticles = 1;\n",
    "         IndexOfRefraction = 1.\n",
    "         PhaseModulation = [||]\n",
    "    }\n",
    "let ps0 = Point(0.,0.,0.)\n",
    "let dir0 = UnitVector(1.,0.,0.)\n",
    "\n",
    "// Function to generate the rays\n",
    "let ray() = NewRay ps0 dir0 (float(BeamWaist)) (float(Rmirror))"
   ]
  },
  {
   "cell_type": "code",
   "execution_count": 14,
   "metadata": {
    "collapsed": false
   },
   "outputs": [
    {
     "data": {
      "text/plain": [
       "(0.999456082, 0.03053657941, 0.0124522086)"
      ]
     },
     "execution_count": 14,
     "metadata": {},
     "output_type": "execute_result"
    }
   ],
   "source": [
    "let r = ray()\n",
    "(r.uvec.X,r.uvec.Y,r.uvec.Z)"
   ]
  },
  {
   "cell_type": "code",
   "execution_count": 15,
   "metadata": {
    "collapsed": false
   },
   "outputs": [
    {
     "data": {
      "text/plain": [
       "<null>"
      ]
     },
     "execution_count": 15,
     "metadata": {},
     "output_type": "execute_result"
    }
   ],
   "source": [
    "[|1..Nrays|] |> Array.Parallel.iter(fun x -> ForwardRay(ray(),objs,mat) ) // ok, look like works"
   ]
  },
  {
   "cell_type": "code",
   "execution_count": 16,
   "metadata": {
    "collapsed": false
   },
   "outputs": [
    {
     "data": {
      "text/plain": [
       "<null>"
      ]
     },
     "execution_count": 16,
     "metadata": {},
     "output_type": "execute_result"
    }
   ],
   "source": [
    "\n",
    "let path_save1 = @\"C:\\Users\\Jose M. Gonzalez\\Desktop\\Vibration1_Save_Phase.txt\"\n",
    "SumAndSavePhases (m2.Sensor) (m2.Normal) (path_save1)"
   ]
  },
  {
   "cell_type": "markdown",
   "metadata": {
    "collapsed": true
   },
   "source": [
    "### Analysis of the results\n",
    "To be able to analize the noise on the output, I have the PostProcess library which producess the noise spectrum of the output.\n",
    "\n",
    "\n",
    "## Some comments about the PSD and how to compute it:\n",
    "from [Matlab's manual on signal processing](http://it.mathworks.com/help/signal/ug/psd-estimate-using-fft.html) we can find that:\n",
    "$$ PSD = \\dfrac{1}{f_{sampling}\\cdot N} |fft(x)|^2 $$\n",
    "Where $f_{sampling} means for the maximum sampling frequency which is 2 times the maximum obtained on the fft. Also there's the point that since we only use the positive frequencies, then we multiply the obtained PSD per 2 in order to obtain show all on the positive axis.\n",
    "\n",
    "Another method to compute the PSD is to use one of the signal analysis functions available on *scipy* which already compute the PSD. One of those methods are [welch](http://docs.scipy.org/doc/scipy/reference/generated/scipy.signal.welch.html#scipy.signal.welch) which applies a [window function](https://en.wikipedia.org/wiki/Window_function) and by default has the hanning"
   ]
  },
  {
   "cell_type": "code",
   "execution_count": 17,
   "metadata": {
    "collapsed": false
   },
   "outputs": [
    {
     "data": {
      "text/plain": [
       "2.333700437e-19"
      ]
     },
     "execution_count": 17,
     "metadata": {},
     "output_type": "execute_result"
    }
   ],
   "source": [
    "let planckConstant, vLight = 6.626070e-34, 299792458. \n",
    "let wavelen = (match ray().Wavelenght with WaveLength x -> float x)\n",
    "let PhotonEnergy = planckConstant*vLight/wavelen\n",
    "let pp = 0.8e6\n",
    "m2.Sensor.SavedData\n",
    "1./(1e-6*pp/PhotonEnergy)"
   ]
  },
  {
   "cell_type": "code",
   "execution_count": null,
   "metadata": {
    "collapsed": true
   },
   "outputs": [],
   "source": [
    "let phnoise = NoiseInterferometerArm m2 tube mat (ray()) 8e5 // transform the phase into noise\n",
    "let path_save = @\"C:\\Users\\Jose M. Gonzalez\\Desktop\\Vibration1_sin_upconversion.txt\"\n",
    "File.WriteAllLines( path_save, phnoise |> Array.map(fun x -> string(x)) );;"
   ]
  }
 ],
 "metadata": {
  "kernelspec": {
   "display_name": "IFSharp",
   "language": "fsharp",
   "name": "ifsharp"
  },
  "language": "fsharp",
  "language_info": {
   "codemirror_mode": "",
   "file_extension": ".fs",
   "mimetype": "text/x-fsharp",
   "name": "fsharp",
   "nbconvert_exporter": "",
   "pygments_lexer": "",
   "version": "4.3.1.0"
  }
 },
 "nbformat": 4,
 "nbformat_minor": 0
}

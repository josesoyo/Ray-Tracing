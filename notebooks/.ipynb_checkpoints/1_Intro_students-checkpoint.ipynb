{
 "cells": [
  {
   "cell_type": "code",
   "execution_count": 2,
   "metadata": {
    "collapsed": false
   },
   "outputs": [
    {
     "name": "stdout",
     "output_type": "stream",
     "text": [
      "                                              ..-\n",
      "    PyKat 0.8.2           _                  '(\n",
      "                          \\`.|\\.__...-\"\"\"\"-_.\" )\n",
      "       ..+-----.._        /  ' `            .-'\n",
      "   . '            `:      7/* _/._\\    \\   (\n",
      "  (        '::;;+;;:      `-\"' =\" /,`\"\" `) /\n",
      "  L.        \\`:::a:f            c_/     n_'\n",
      "  ..`--...___`.  .    ,  \n",
      "   `^-....____:   +.      www.gwoptics.org/pykat\n",
      "\n",
      "Imported matplotlib.pyplot as plt\n",
      "Imported numpy as np\n"
     ]
    },
    {
     "data": {
      "text/html": [
       "\n",
       "<style>\n",
       "div.html_cell_render{\n",
       "}\n",
       "\t\t\n",
       ".rendered_html pre,\n",
       ".rendered_html code {\n",
       "}\n",
       "\n",
       "div.text_cell_render {\n",
       "font-family: \"Helvetica Neue\", Arial, Helvetica, Geneva, sans-serif;\n",
       "/*font-family: \"Charis SIL\", serif;  Make non-code text serif. */\n",
       "line-height: 145%; /* added for some line spacing of text. */\n",
       "width: 105ex; /* instead of 'inherit' for shorter lines */\n",
       "font-size: 12pt;\n",
       "}\n",
       "\n",
       "div.text_cell_render h1,\n",
       "div.text_cell_render h2,\n",
       "div.text_cell_render h3,\n",
       "div.text_cell_render h4,\n",
       "div.text_cell_render h5,\n",
       "div.text_cell_render h6 {\n",
       "/*    font-family: 'Kameron';*/\n",
       "    font-weight: 300;\n",
       "}\n",
       "\n",
       "div.text_cell_render h1 {\n",
       "    font-size: 24pt;\n",
       "}\n",
       "\n",
       "div.text_cell_render h2 {\n",
       "    font-size: 18pt;\n",
       "}\n",
       "\n",
       "div.text_cell_render h3 {\n",
       "    font-size: 14pt;\n",
       "}\n",
       "\n",
       ".rendered_html pre,\n",
       ".rendered_html code {\n",
       "    font-size: medium;\n",
       "}\n",
       "\n",
       ".rendered_html ol {\n",
       "    list-style:decimal;\n",
       "    margin: 1em 2em;\n",
       "}\n",
       "\n",
       "\n",
       "div.cell.code_cell {\n",
       "}\n",
       "</style>\n"
      ],
      "text/plain": [
       "<IPython.core.display.HTML object>"
      ]
     },
     "metadata": {},
     "output_type": "display_data"
    },
    {
     "name": "stdout",
     "output_type": "stream",
     "text": [
      "You can now use 'show_finesse(kat)' to display the Finesse code of a 'kat' object\n"
     ]
    }
   ],
   "source": [
    "%run pykat_notebook_defaults.py \n",
    "pykat.init_pykat_plotting(dpi=90)"
   ]
  },
  {
   "cell_type": "markdown",
   "metadata": {},
   "source": [
    "# 1. Introduction to IPython Notebooks and Finesse"
   ]
  },
  {
   "cell_type": "markdown",
   "metadata": {},
   "source": [
    "This is the first introduction notebook for the simulation sessions this week. In the first GraWIToN we had multiple simulation sessions based on a variety of different modelling techniques. However, this week we will concentrate on just steady-state frequency domain simulation. These first sessions are to cover some of these earlier points again and hopefully bring you up to speed for the later sessions.\n",
    "\n",
    "The SIM sessions together will cover the following material:\n",
    "  * Refresher on optical modelling and Michelson interferometer, Fabry-Perot interferometer (cavity)\n",
    "  * Noise coupling\n",
    "  * Control\n",
    "  * Quantum noise\n",
    "\n",
    "**Important reference material**:\n",
    "  * Review article on interferometry: <a href=\"http://relativity.livingreviews.org/Articles/lrr-2010-1/\">Interferometer Techniques for Gravitational-Wave Detection 2010</a>\n",
    "  * The pre-print of the recently updated review on interferometry: <a href=\"http://arxiv.org/abs/0909.3661\">Interferometer Techniques for Gravitational-Wave Detection 2015</a>\n",
    "  * Finesse main page: <a href=\"http://www.gwoptics.org/finesse\">http://www.gwoptics.org/finesse</a>\n",
    "  * <a href=\"http://www.gwoptics.org/finesse/reference/\">Finesse online syntax reference</a>\n",
    "  * <a href=\"http://kvasir.sr.bham.ac.uk/redmine/attachments/download/131/Finesse_2.0_manual.pdf\">Finesse manual</a> (>200 pages pdf file)\n",
    "\n",
    "**The topics of the first session today are**:\n",
    "  * Introduction to software Python, Pykat and Finesse\n",
    "  * Introduction to interferometers simulation \n",
    "  * Basics simulations of the Michelson and Fabry Perot interferometers\n",
    "  \n",
    "  \n",
    "***"
   ]
  },
  {
   "cell_type": "markdown",
   "metadata": {},
   "source": [
    "# 2. Installing Software"
   ]
  },
  {
   "cell_type": "markdown",
   "metadata": {},
   "source": [
    "You should have received instructions on how to install Python, Pykat, Finesse and these notebook files already. If these did not install correctly we will find out today and can hopefully fix that.\n"
   ]
  },
  {
   "cell_type": "markdown",
   "metadata": {},
   "source": [
    "# 3. Let's Get Started: Python and IPython Notebooks"
   ]
  },
  {
   "cell_type": "markdown",
   "metadata": {},
   "source": [
    "We are going to use the *Python* programming language, executed in the *IPython* notebooks. We have no time to study either of these in detail during the SIM sessions. I have provided some basic introduction and links for more information below."
   ]
  },
  {
   "cell_type": "markdown",
   "metadata": {},
   "source": [
    "## 3.1 Python"
   ]
  },
  {
   "cell_type": "markdown",
   "metadata": {},
   "source": [
    "<a href=\"https://www.python.org/\">Python</a> is a powerful programming language which is particularly useful for fast development and scripting. We will use only a very small subset of Python's functionality. In particular, we will do simple mathematical operations (using the package <a href=\"http://www.numpy.org/\">Numpy</a>), some simple string operations and we will plot output data.\n",
    "\n",
    "I recommend that you do **not** try to learn Python or IPython in general right now, but search the web for a solution for each particular task. A good starting point, for example, is the <a href=\"http://nbviewer.ipython.org/gist/rpmuller/5920182\">A Crash Course in Python for Scientists</a>.\n",
    "\n",
    "More info can be found in:\n",
    "  * The <a href=\"https://docs.python.org/2/tutorial/\">Python tutorial</a>\n",
    "  * The <a href=\"http://wiki.scipy.org/Tentative_NumPy_Tutorial\">Numpy tutorial</a>"
   ]
  },
  {
   "cell_type": "markdown",
   "metadata": {},
   "source": [
    "## 3.2 The IPython Notebook"
   ]
  },
  {
   "cell_type": "markdown",
   "metadata": {},
   "source": [
    "### 3.2.1 Text Cells"
   ]
  },
  {
   "cell_type": "markdown",
   "metadata": {},
   "source": [
    "These cells are just text, fomatted using *Markdown*: http://daringfireball.net/projects/markdown/syntax\n"
   ]
  },
  {
   "cell_type": "markdown",
   "metadata": {},
   "source": [
    "### 3.2.2 Code Cells"
   ]
  },
  {
   "cell_type": "markdown",
   "metadata": {},
   "source": [
    "Code cells are the main element in the IPython notebook. When you press 'shift+enter' the content of the cell will be evaluated as Python code and an output cell is created to display the result, see the simple examples below."
   ]
  },
  {
   "cell_type": "code",
   "execution_count": 2,
   "metadata": {
    "collapsed": false
   },
   "outputs": [
    {
     "name": "stdout",
     "output_type": "stream",
     "text": [
      "15\n"
     ]
    }
   ],
   "source": [
    "# Adding numbers\n",
    "a=5\n",
    "b=10\n",
    "print(a+b)"
   ]
  },
  {
   "cell_type": "code",
   "execution_count": 3,
   "metadata": {
    "collapsed": false
   },
   "outputs": [
    {
     "name": "stdout",
     "output_type": "stream",
     "text": [
      "red car\n"
     ]
    }
   ],
   "source": [
    "# Joining strings together\n",
    "one='red '\n",
    "two='car'\n",
    "print(one+two)"
   ]
  },
  {
   "cell_type": "code",
   "execution_count": 4,
   "metadata": {
    "collapsed": false
   },
   "outputs": [
    {
     "name": "stdout",
     "output_type": "stream",
     "text": [
      "This is a good way to present results: The area is 12.6 km^2\n"
     ]
    }
   ],
   "source": [
    "# Outputting sentences\n",
    "r = 2\n",
    "area = np.pi * r*r\n",
    "print(\"This is a good way to present results: The area is {0:.1f} km^2\".format(area))"
   ]
  },
  {
   "cell_type": "markdown",
   "metadata": {},
   "source": [
    "### 3.2.3 Latex and HTML"
   ]
  },
  {
   "cell_type": "markdown",
   "metadata": {},
   "source": [
    "You can use <span style=\"color:red;\">HTML commands</span> and Latex commands (for example:  $\\Delta L = L_X - L_Y$) in the markdown cells. You can also generate HTML text with code, for example to highlight certain data:"
   ]
  },
  {
   "cell_type": "code",
   "execution_count": 5,
   "metadata": {
    "collapsed": false
   },
   "outputs": [
    {
     "data": {
      "text/html": [
       "<b>This is bold: 5.512</b>"
      ],
      "text/plain": [
       "<IPython.core.display.HTML object>"
      ]
     },
     "metadata": {},
     "output_type": "display_data"
    }
   ],
   "source": [
    "a=5.512;\n",
    "h=HTML('<b>This is bold: {0}</b>'.format(a));\n",
    "display(h)"
   ]
  },
  {
   "cell_type": "markdown",
   "metadata": {},
   "source": [
    "### 3.2.4 Displaying Graphics (SVG File)"
   ]
  },
  {
   "cell_type": "markdown",
   "metadata": {},
   "source": [
    "For any optical simulation it is very useful to prepare a sketch of the optical layout. We typically use <a href=\"https://inkscape.org\">Inkscape</a> and the <a href=\"http://www.gwoptics.org/ComponentLibrary/\">ComponentLibrary</a> to prepare such sketches as Scalable Vector Graphics (svg files). Such files can be loaded into notebooks as shown below."
   ]
  },
  {
   "cell_type": "code",
   "execution_count": 6,
   "metadata": {
    "collapsed": false
   },
   "outputs": [
    {
     "data": {
      "text/html": [
       "<img src=\"michelson01.svg\" width=400 height=400/>"
      ],
      "text/plain": [
       "<IPython.core.display.HTML object>"
      ]
     },
     "execution_count": 6,
     "metadata": {},
     "output_type": "execute_result"
    }
   ],
   "source": [
    "HTML('<img src=\"michelson01.svg\" width=400 height=400/>')"
   ]
  },
  {
   "cell_type": "markdown",
   "metadata": {},
   "source": [
    "### 3.2.5 Plotting"
   ]
  },
  {
   "cell_type": "markdown",
   "metadata": {},
   "source": [
    "Python provides a number of powerful plotting packages. We will be using inline plots based on the 'matplotlib' package. Examples and documentation can be found online, for example a <a href=\"http://nbviewer.ipython.org/gist/yymm/6805429\">notebook with good plotting examples</a>, or this <a href=\"http://nbviewer.ipython.org/github/jrjohansson/scientific-python-lectures/blob/master/Lecture-4-Matplotlib.ipynb\"> extensive lecture on plotting</a>. A simple example is shown below."
   ]
  },
  {
   "cell_type": "code",
   "execution_count": 7,
   "metadata": {
    "collapsed": false
   },
   "outputs": [
    {
     "name": "stdout",
     "output_type": "stream",
     "text": [
      "x = [   1.   12.   23.   34.   45.   56.   67.   78.   89.  100.]\n"
     ]
    },
    {
     "data": {
      "text/plain": [
       "<matplotlib.text.Text at 0x107e09710>"
      ]
     },
     "execution_count": 7,
     "metadata": {},
     "output_type": "execute_result"
    },
    {
     "data": {
      "image/png": "[encoded data removed]",
      "text/plain": [
       "<matplotlib.figure.Figure at 0x107ddc588>"
      ]
     },
     "metadata": {},
     "output_type": "display_data"
    }
   ],
   "source": [
    "x=np.linspace(1, 100, 10) # this creates a data vector with 10 elements\n",
    "\n",
    "print(\"x = {0}\".format(x))\n",
    "\n",
    "y = x*x\n",
    "\n",
    "plt.plot(x, y)\n",
    "plt.title('A simple function')\n",
    "plt.xlabel('x [some units]')\n",
    "plt.ylabel('y [some other units]')"
   ]
  },
  {
   "cell_type": "markdown",
   "metadata": {},
   "source": [
    "**Important**: If your plots are looking too big or too small then you will need to change the DPI setting to suit your monitor. At the top of this page is a line of code that looks like `pykat.init_pykat_plotting(dpi=90)`, either increase of decrease this to find a scaling that suits you."
   ]
  },
  {
   "cell_type": "markdown",
   "metadata": {},
   "source": [
    "# 4. Finesse and Pykat"
   ]
  },
  {
   "cell_type": "markdown",
   "metadata": {},
   "source": [
    "<a href=\"http://www.gwoptics.org/finesse\">Finesse</a> is an interferometer simulation software, developed for the design and commissioning of laser-interferometric gravitational wave detectors. As such it is optimised for modelling the main interferometers of LIGO, Virgo, GEO etc, but it is also a simple and versatile tool to learn basic laser optics. Examples and an extensive manual for Finesse can be found on the <a href=\"http://www.gwoptics.org/finesse\">Finesse page</a>.\n",
    "\n",
    "<a href=\"http://www.gwoptics.org/pykat\">PyKat</a> is a Python wrapper for the interferometer simulation Finesse. This allows us to **run Finesse** from an IPython notebook. The main advantage of using Finesse in this way is that Python offers the ability to do **post-processing of the Finesse output** very easily in the notebook. "
   ]
  },
  {
   "cell_type": "markdown",
   "metadata": {},
   "source": [
    "## 4.1 Simple Finesse and Pykat Example"
   ]
  },
  {
   "cell_type": "markdown",
   "metadata": {},
   "source": [
    "Here we construct a simple Finesse model of a Fabry-Perot cavity. Using this we compute what the circulating laser power inside the cavity is. This is computed as one of the mirrors are moved slightly to change the resonance condition."
   ]
  },
  {
   "cell_type": "code",
   "execution_count": 8,
   "metadata": {
    "collapsed": false
   },
   "outputs": [],
   "source": [
    "kat = finesse.kat()\n",
    "kat.verbose = False\n",
    "kat_code = \"\"\"\n",
    " l laser1 1.0 0 npsl \n",
    " s s1 0 npsl nM1\n",
    "\n",
    " m mirror1 0.9 0.1 0 nM1 nM2\n",
    " s scav 1 nM2 nM3\n",
    " m mirror2 0.9 0.1 0 nM3 nM4  \n",
    " \n",
    " pd circ nM3\n",
    " \n",
    " xaxis mirror1 phi lin -80 260 400\n",
    " yaxis log abs \n",
    " \"\"\"\n",
    "kat.parseKatCode(kat_code)\n",
    "\n",
    "out1 = kat.run()"
   ]
  },
  {
   "cell_type": "markdown",
   "metadata": {},
   "source": [
    "The data can be plotted in multiple ways. If quickly want to see the results we suggest using the builtin plotting command for the output:"
   ]
  },
  {
   "cell_type": "code",
   "execution_count": 9,
   "metadata": {
    "collapsed": false
   },
   "outputs": [
    {
     "data": {
      "image/png": "[encoded data removed]",
      "text/plain": [
       "<matplotlib.figure.Figure at 0x107e81780>"
      ]
     },
     "metadata": {},
     "output_type": "display_data"
    }
   ],
   "source": [
    "# Plotting the results of an output can be done using the builtin command\n",
    "fig = out1.plot()"
   ]
  },
  {
   "cell_type": "markdown",
   "metadata": {},
   "source": [
    "This will produce a plot using all the detectors enabled in the model. It should be noted that the yaxis units is [au] because multiple quantities can be shown at the same time. For example, a beam's power in Watts can be plotted along with the size of a beam. Thus to infer the units of a trace you must look at what type of detector has been used.\n",
    "\n",
    "The builtin plotting function has many options that can be set to customise the plot. For more examples on using this please see the notebook on <a href=\"pykat_plotting.ipynb\" target=\"_blank\">plotting</a>.\n",
    "\n",
    "However, if you would rather make a plot yourself you can always just use matplotlib commands as per usual:"
   ]
  },
  {
   "cell_type": "code",
   "execution_count": 10,
   "metadata": {
    "collapsed": false
   },
   "outputs": [
    {
     "data": {
      "text/plain": [
       "<matplotlib.text.Text at 0x107efbe10>"
      ]
     },
     "execution_count": 10,
     "metadata": {},
     "output_type": "execute_result"
    },
    {
     "data": {
      "image/png": "[encoded data removed]",
      "text/plain": [
       "<matplotlib.figure.Figure at 0x107f03b00>"
      ]
     },
     "metadata": {},
     "output_type": "display_data"
    }
   ],
   "source": [
    "plt.semilogy(out1.x, out1[\"circ\"])\n",
    "plt.xlim(out1.x.min(), out1.x.max())\n",
    "plt.ylabel(\"Circulating power [W]\")\n",
    "plt.xlabel(\"Mirror tuning [deg]\")"
   ]
  },
  {
   "cell_type": "markdown",
   "metadata": {},
   "source": [
    "The `out` object returned by `run()` command is an important one as it contains all the results from the simulation. It is important to remember that when Finesse outputs some results it is just an array of numbers: the number of steps in the simulation set with the `xaxis` and the outputted value of each of the detectors you have added.\n",
    "\n",
    "You can see the raw outputs with:"
   ]
  },
  {
   "cell_type": "code",
   "execution_count": 11,
   "metadata": {
    "collapsed": false
   },
   "outputs": [
    {
     "name": "stdout",
     "output_type": "stream",
     "text": [
      "[ -8.00000000e+01  -7.91500000e+01  -7.83000000e+01  -7.74500000e+01\n",
      "  -7.66000000e+01  -7.57500000e+01  -7.49000000e+01  -7.40500000e+01\n",
      "  -7.32000000e+01  -7.23500000e+01  -7.15000000e+01  -7.06500000e+01\n",
      "  -6.98000000e+01  -6.89500000e+01  -6.81000000e+01  -6.72500000e+01\n",
      "  -6.64000000e+01  -6.55500000e+01  -6.47000000e+01  -6.38500000e+01\n",
      "  -6.30000000e+01  -6.21500000e+01  -6.13000000e+01  -6.04500000e+01\n",
      "  -5.96000000e+01  -5.87500000e+01  -5.79000000e+01  -5.70500000e+01\n",
      "  -5.62000000e+01  -5.53500000e+01  -5.45000000e+01  -5.36500000e+01\n",
      "  -5.28000000e+01  -5.19500000e+01  -5.11000000e+01  -5.02500000e+01\n",
      "  -4.94000000e+01  -4.85500000e+01  -4.77000000e+01  -4.68500000e+01\n",
      "  -4.60000000e+01  -4.51500000e+01  -4.43000000e+01  -4.34500000e+01\n",
      "  -4.26000000e+01  -4.17500000e+01  -4.09000000e+01  -4.00500000e+01\n",
      "  -3.92000000e+01  -3.83500000e+01  -3.75000000e+01  -3.66500000e+01\n",
      "  -3.58000000e+01  -3.49500000e+01  -3.41000000e+01  -3.32500000e+01\n",
      "  -3.24000000e+01  -3.15500000e+01  -3.07000000e+01  -2.98500000e+01\n",
      "  -2.90000000e+01  -2.81500000e+01  -2.73000000e+01  -2.64500000e+01\n",
      "  -2.56000000e+01  -2.47500000e+01  -2.39000000e+01  -2.30500000e+01\n",
      "  -2.22000000e+01  -2.13500000e+01  -2.05000000e+01  -1.96500000e+01\n",
      "  -1.88000000e+01  -1.79500000e+01  -1.71000000e+01  -1.62500000e+01\n",
      "  -1.54000000e+01  -1.45500000e+01  -1.37000000e+01  -1.28500000e+01\n",
      "  -1.20000000e+01  -1.11500000e+01  -1.03000000e+01  -9.45000000e+00\n",
      "  -8.60000000e+00  -7.75000000e+00  -6.90000000e+00  -6.05000000e+00\n",
      "  -5.20000000e+00  -4.35000000e+00  -3.50000000e+00  -2.65000000e+00\n",
      "  -1.80000000e+00  -9.50000000e-01  -1.00000000e-01   7.50000000e-01\n",
      "   1.60000000e+00   2.45000000e+00   3.30000000e+00   4.15000000e+00\n",
      "   5.00000000e+00   5.85000000e+00   6.70000000e+00   7.55000000e+00\n",
      "   8.40000000e+00   9.25000000e+00   1.01000000e+01   1.09500000e+01\n",
      "   1.18000000e+01   1.26500000e+01   1.35000000e+01   1.43500000e+01\n",
      "   1.52000000e+01   1.60500000e+01   1.69000000e+01   1.77500000e+01\n",
      "   1.86000000e+01   1.94500000e+01   2.03000000e+01   2.11500000e+01\n",
      "   2.20000000e+01   2.28500000e+01   2.37000000e+01   2.45500000e+01\n",
      "   2.54000000e+01   2.62500000e+01   2.71000000e+01   2.79500000e+01\n",
      "   2.88000000e+01   2.96500000e+01   3.05000000e+01   3.13500000e+01\n",
      "   3.22000000e+01   3.30500000e+01   3.39000000e+01   3.47500000e+01\n",
      "   3.56000000e+01   3.64500000e+01   3.73000000e+01   3.81500000e+01\n",
      "   3.90000000e+01   3.98500000e+01   4.07000000e+01   4.15500000e+01\n",
      "   4.24000000e+01   4.32500000e+01   4.41000000e+01   4.49500000e+01\n",
      "   4.58000000e+01   4.66500000e+01   4.75000000e+01   4.83500000e+01\n",
      "   4.92000000e+01   5.00500000e+01   5.09000000e+01   5.17500000e+01\n",
      "   5.26000000e+01   5.34500000e+01   5.43000000e+01   5.51500000e+01\n",
      "   5.60000000e+01   5.68500000e+01   5.77000000e+01   5.85500000e+01\n",
      "   5.94000000e+01   6.02500000e+01   6.11000000e+01   6.19500000e+01\n",
      "   6.28000000e+01   6.36500000e+01   6.45000000e+01   6.53500000e+01\n",
      "   6.62000000e+01   6.70500000e+01   6.79000000e+01   6.87500000e+01\n",
      "   6.96000000e+01   7.04500000e+01   7.13000000e+01   7.21500000e+01\n",
      "   7.30000000e+01   7.38500000e+01   7.47000000e+01   7.55500000e+01\n",
      "   7.64000000e+01   7.72500000e+01   7.81000000e+01   7.89500000e+01\n",
      "   7.98000000e+01   8.06500000e+01   8.15000000e+01   8.23500000e+01\n",
      "   8.32000000e+01   8.40500000e+01   8.49000000e+01   8.57500000e+01\n",
      "   8.66000000e+01   8.74500000e+01   8.83000000e+01   8.91500000e+01\n",
      "   9.00000000e+01   9.08500000e+01   9.17000000e+01   9.25500000e+01\n",
      "   9.34000000e+01   9.42500000e+01   9.51000000e+01   9.59500000e+01\n",
      "   9.68000000e+01   9.76500000e+01   9.85000000e+01   9.93500000e+01\n",
      "   1.00200000e+02   1.01050000e+02   1.01900000e+02   1.02750000e+02\n",
      "   1.03600000e+02   1.04450000e+02   1.05300000e+02   1.06150000e+02\n",
      "   1.07000000e+02   1.07850000e+02   1.08700000e+02   1.09550000e+02\n",
      "   1.10400000e+02   1.11250000e+02   1.12100000e+02   1.12950000e+02\n",
      "   1.13800000e+02   1.14650000e+02   1.15500000e+02   1.16350000e+02\n",
      "   1.17200000e+02   1.18050000e+02   1.18900000e+02   1.19750000e+02\n",
      "   1.20600000e+02   1.21450000e+02   1.22300000e+02   1.23150000e+02\n",
      "   1.24000000e+02   1.24850000e+02   1.25700000e+02   1.26550000e+02\n",
      "   1.27400000e+02   1.28250000e+02   1.29100000e+02   1.29950000e+02\n",
      "   1.30800000e+02   1.31650000e+02   1.32500000e+02   1.33350000e+02\n",
      "   1.34200000e+02   1.35050000e+02   1.35900000e+02   1.36750000e+02\n",
      "   1.37600000e+02   1.38450000e+02   1.39300000e+02   1.40150000e+02\n",
      "   1.41000000e+02   1.41850000e+02   1.42700000e+02   1.43550000e+02\n",
      "   1.44400000e+02   1.45250000e+02   1.46100000e+02   1.46950000e+02\n",
      "   1.47800000e+02   1.48650000e+02   1.49500000e+02   1.50350000e+02\n",
      "   1.51200000e+02   1.52050000e+02   1.52900000e+02   1.53750000e+02\n",
      "   1.54600000e+02   1.55450000e+02   1.56300000e+02   1.57150000e+02\n",
      "   1.58000000e+02   1.58850000e+02   1.59700000e+02   1.60550000e+02\n",
      "   1.61400000e+02   1.62250000e+02   1.63100000e+02   1.63950000e+02\n",
      "   1.64800000e+02   1.65650000e+02   1.66500000e+02   1.67350000e+02\n",
      "   1.68200000e+02   1.69050000e+02   1.69900000e+02   1.70750000e+02\n",
      "   1.71600000e+02   1.72450000e+02   1.73300000e+02   1.74150000e+02\n",
      "   1.75000000e+02   1.75850000e+02   1.76700000e+02   1.77550000e+02\n",
      "   1.78400000e+02   1.79250000e+02   1.80100000e+02   1.80950000e+02\n",
      "   1.81800000e+02   1.82650000e+02   1.83500000e+02   1.84350000e+02\n",
      "   1.85200000e+02   1.86050000e+02   1.86900000e+02   1.87750000e+02\n",
      "   1.88600000e+02   1.89450000e+02   1.90300000e+02   1.91150000e+02\n",
      "   1.92000000e+02   1.92850000e+02   1.93700000e+02   1.94550000e+02\n",
      "   1.95400000e+02   1.96250000e+02   1.97100000e+02   1.97950000e+02\n",
      "   1.98800000e+02   1.99650000e+02   2.00500000e+02   2.01350000e+02\n",
      "   2.02200000e+02   2.03050000e+02   2.03900000e+02   2.04750000e+02\n",
      "   2.05600000e+02   2.06450000e+02   2.07300000e+02   2.08150000e+02\n",
      "   2.09000000e+02   2.09850000e+02   2.10700000e+02   2.11550000e+02\n",
      "   2.12400000e+02   2.13250000e+02   2.14100000e+02   2.14950000e+02\n",
      "   2.15800000e+02   2.16650000e+02   2.17500000e+02   2.18350000e+02\n",
      "   2.19200000e+02   2.20050000e+02   2.20900000e+02   2.21750000e+02\n",
      "   2.22600000e+02   2.23450000e+02   2.24300000e+02   2.25150000e+02\n",
      "   2.26000000e+02   2.26850000e+02   2.27700000e+02   2.28550000e+02\n",
      "   2.29400000e+02   2.30250000e+02   2.31100000e+02   2.31950000e+02\n",
      "   2.32800000e+02   2.33650000e+02   2.34500000e+02   2.35350000e+02\n",
      "   2.36200000e+02   2.37050000e+02   2.37900000e+02   2.38750000e+02\n",
      "   2.39600000e+02   2.40450000e+02   2.41300000e+02   2.42150000e+02\n",
      "   2.43000000e+02   2.43850000e+02   2.44700000e+02   2.45550000e+02\n",
      "   2.46400000e+02   2.47250000e+02   2.48100000e+02   2.48950000e+02\n",
      "   2.49800000e+02   2.50650000e+02   2.51500000e+02   2.52350000e+02\n",
      "   2.53200000e+02   2.54050000e+02   2.54900000e+02   2.55750000e+02\n",
      "   2.56600000e+02   2.57450000e+02   2.58300000e+02   2.59150000e+02\n",
      "   2.60000000e+02]\n",
      "[[ 0.02570366]\n",
      " [ 0.02584396]\n",
      " [ 0.02599685]\n",
      " [ 0.02616261]\n",
      " [ 0.02634156]\n",
      " [ 0.02653403]\n",
      " [ 0.02674039]\n",
      " [ 0.02696105]\n",
      " [ 0.02719643]\n",
      " [ 0.02744699]\n",
      " [ 0.02771325]\n",
      " [ 0.02799574]\n",
      " [ 0.02829504]\n",
      " [ 0.02861179]\n",
      " [ 0.02894665]\n",
      " [ 0.02930034]\n",
      " [ 0.02967365]\n",
      " [ 0.0300674 ]\n",
      " [ 0.03048249]\n",
      " [ 0.03091988]\n",
      " [ 0.03138061]\n",
      " [ 0.03186577]\n",
      " [ 0.03237658]\n",
      " [ 0.03291429]\n",
      " [ 0.03348031]\n",
      " [ 0.0340761 ]\n",
      " [ 0.03470326]\n",
      " [ 0.03536353]\n",
      " [ 0.03605875]\n",
      " [ 0.03679094]\n",
      " [ 0.03756225]\n",
      " [ 0.03837503]\n",
      " [ 0.03923183]\n",
      " [ 0.04013538]\n",
      " [ 0.04108867]\n",
      " [ 0.04209494]\n",
      " [ 0.04315772]\n",
      " [ 0.04428082]\n",
      " [ 0.04546844]\n",
      " [ 0.04672514]\n",
      " [ 0.0480559 ]\n",
      " [ 0.04946618]\n",
      " [ 0.05096199]\n",
      " [ 0.05254989]\n",
      " [ 0.05423713]\n",
      " [ 0.05603168]\n",
      " [ 0.05794235]\n",
      " [ 0.0599789 ]\n",
      " [ 0.06215213]\n",
      " [ 0.06447405]\n",
      " [ 0.06695802]\n",
      " [ 0.06961897]\n",
      " [ 0.07247359]\n",
      " [ 0.07554058]\n",
      " [ 0.07884101]\n",
      " [ 0.08239859]\n",
      " [ 0.08624016]\n",
      " [ 0.09039616]\n",
      " [ 0.09490121]\n",
      " [ 0.09979484]\n",
      " [ 0.10512234]\n",
      " [ 0.1109358 ]\n",
      " [ 0.11729534]\n",
      " [ 0.12427067]\n",
      " [ 0.13194292]\n",
      " [ 0.14040704]\n",
      " [ 0.1497746 ]\n",
      " [ 0.16017749]\n",
      " [ 0.17177239]\n",
      " [ 0.18474661]\n",
      " [ 0.1993255 ]\n",
      " [ 0.215782  ]\n",
      " [ 0.23444909]\n",
      " [ 0.25573627]\n",
      " [ 0.28015131]\n",
      " [ 0.30832963]\n",
      " [ 0.34107422]\n",
      " [ 0.37941065]\n",
      " [ 0.4246639 ]\n",
      " [ 0.4785672 ]\n",
      " [ 0.54341862]\n",
      " [ 0.62230978]\n",
      " [ 0.71946566]\n",
      " [ 0.84075727]\n",
      " [ 0.9944867 ]\n",
      " [ 1.19260293]\n",
      " [ 1.45258998]\n",
      " [ 1.80035381]\n",
      " [ 2.2743726 ]\n",
      " [ 2.9305457 ]\n",
      " [ 3.84337363]\n",
      " [ 5.08602639]\n",
      " [ 6.64114067]\n",
      " [ 8.18955262]\n",
      " [ 8.99014122]\n",
      " [ 8.47711857]\n",
      " [ 7.02761295]\n",
      " [ 5.42872877]\n",
      " [ 4.10415021]\n",
      " [ 3.11919703]\n",
      " [ 2.40989377]\n",
      " [ 1.8987766 ]\n",
      " [ 1.52533533]\n",
      " [ 1.24741397]\n",
      " [ 1.03656895]\n",
      " [ 0.87363865]\n",
      " [ 0.74557279]\n",
      " [ 0.64334083]\n",
      " [ 0.5605832 ]\n",
      " [ 0.49274188]\n",
      " [ 0.43649431]\n",
      " [ 0.38937962]\n",
      " [ 0.34954796]\n",
      " [ 0.31558955]\n",
      " [ 0.28641627]\n",
      " [ 0.26117839]\n",
      " [ 0.23920511]\n",
      " [ 0.2199616 ]\n",
      " [ 0.20301745]\n",
      " [ 0.18802332]\n",
      " [ 0.17469339]\n",
      " [ 0.16279207]\n",
      " [ 0.15212384]\n",
      " [ 0.14252537]\n",
      " [ 0.1338594 ]\n",
      " [ 0.12600993]\n",
      " [ 0.11887839]\n",
      " [ 0.11238062]\n",
      " [ 0.10644441]\n",
      " [ 0.10100752]\n",
      " [ 0.09601611]\n",
      " [ 0.09142339]\n",
      " [ 0.08718855]\n",
      " [ 0.08327588]\n",
      " [ 0.07965401]\n",
      " [ 0.07629532]\n",
      " [ 0.07317539]\n",
      " [ 0.07027256]\n",
      " [ 0.06756762]\n",
      " [ 0.06504341]\n",
      " [ 0.06268462]\n",
      " [ 0.06047753]\n",
      " [ 0.05840984]\n",
      " [ 0.05647046]\n",
      " [ 0.05464941]\n",
      " [ 0.05293767]\n",
      " [ 0.05132707]\n",
      " [ 0.04981021]\n",
      " [ 0.04838036]\n",
      " [ 0.0470314 ]\n",
      " [ 0.04575774]\n",
      " [ 0.04455429]\n",
      " [ 0.0434164 ]\n",
      " [ 0.04233979]\n",
      " [ 0.04132055]\n",
      " [ 0.0403551 ]\n",
      " [ 0.03944012]\n",
      " [ 0.03857258]\n",
      " [ 0.03774967]\n",
      " [ 0.03696882]\n",
      " [ 0.03622763]\n",
      " [ 0.03552389]\n",
      " [ 0.03485558]\n",
      " [ 0.03422078]\n",
      " [ 0.03361776]\n",
      " [ 0.03304488]\n",
      " [ 0.03250063]\n",
      " [ 0.03198361]\n",
      " [ 0.03149252]\n",
      " [ 0.03102615]\n",
      " [ 0.03058336]\n",
      " [ 0.03016311]\n",
      " [ 0.02976442]\n",
      " [ 0.02938638]\n",
      " [ 0.02902815]\n",
      " [ 0.02868892]\n",
      " [ 0.02836798]\n",
      " [ 0.02806463]\n",
      " [ 0.02777824]\n",
      " [ 0.02750821]\n",
      " [ 0.027254  ]\n",
      " [ 0.02701509]\n",
      " [ 0.02679101]\n",
      " [ 0.02658132]\n",
      " [ 0.02638562]\n",
      " [ 0.02620352]\n",
      " [ 0.02603468]\n",
      " [ 0.02587879]\n",
      " [ 0.02573555]\n",
      " [ 0.02560471]\n",
      " [ 0.02548601]\n",
      " [ 0.02537926]\n",
      " [ 0.02528424]\n",
      " [ 0.02520079]\n",
      " [ 0.02512877]\n",
      " [ 0.02506804]\n",
      " [ 0.0250185 ]\n",
      " [ 0.02498006]\n",
      " [ 0.02495265]\n",
      " [ 0.02493622]\n",
      " [ 0.02493075]\n",
      " [ 0.02493622]\n",
      " [ 0.02495265]\n",
      " [ 0.02498006]\n",
      " [ 0.0250185 ]\n",
      " [ 0.02506804]\n",
      " [ 0.02512877]\n",
      " [ 0.02520079]\n",
      " [ 0.02528424]\n",
      " [ 0.02537926]\n",
      " [ 0.02548601]\n",
      " [ 0.02560471]\n",
      " [ 0.02573555]\n",
      " [ 0.02587879]\n",
      " [ 0.02603468]\n",
      " [ 0.02620352]\n",
      " [ 0.02638562]\n",
      " [ 0.02658132]\n",
      " [ 0.02679101]\n",
      " [ 0.02701509]\n",
      " [ 0.027254  ]\n",
      " [ 0.02750821]\n",
      " [ 0.02777824]\n",
      " [ 0.02806463]\n",
      " [ 0.02836798]\n",
      " [ 0.02868892]\n",
      " [ 0.02902815]\n",
      " [ 0.02938638]\n",
      " [ 0.02976442]\n",
      " [ 0.03016311]\n",
      " [ 0.03058336]\n",
      " [ 0.03102615]\n",
      " [ 0.03149252]\n",
      " [ 0.03198361]\n",
      " [ 0.03250063]\n",
      " [ 0.03304488]\n",
      " [ 0.03361776]\n",
      " [ 0.03422078]\n",
      " [ 0.03485558]\n",
      " [ 0.03552389]\n",
      " [ 0.03622763]\n",
      " [ 0.03696882]\n",
      " [ 0.03774967]\n",
      " [ 0.03857258]\n",
      " [ 0.03944012]\n",
      " [ 0.0403551 ]\n",
      " [ 0.04132055]\n",
      " [ 0.04233979]\n",
      " [ 0.0434164 ]\n",
      " [ 0.04455429]\n",
      " [ 0.04575774]\n",
      " [ 0.0470314 ]\n",
      " [ 0.04838036]\n",
      " [ 0.04981021]\n",
      " [ 0.05132707]\n",
      " [ 0.05293767]\n",
      " [ 0.05464941]\n",
      " [ 0.05647046]\n",
      " [ 0.05840984]\n",
      " [ 0.06047753]\n",
      " [ 0.06268462]\n",
      " [ 0.06504341]\n",
      " [ 0.06756762]\n",
      " [ 0.07027256]\n",
      " [ 0.07317539]\n",
      " [ 0.07629532]\n",
      " [ 0.07965401]\n",
      " [ 0.08327588]\n",
      " [ 0.08718855]\n",
      " [ 0.09142339]\n",
      " [ 0.09601611]\n",
      " [ 0.10100752]\n",
      " [ 0.10644441]\n",
      " [ 0.11238062]\n",
      " [ 0.11887839]\n",
      " [ 0.12600993]\n",
      " [ 0.1338594 ]\n",
      " [ 0.14252537]\n",
      " [ 0.15212384]\n",
      " [ 0.16279207]\n",
      " [ 0.17469339]\n",
      " [ 0.18802332]\n",
      " [ 0.20301745]\n",
      " [ 0.2199616 ]\n",
      " [ 0.23920511]\n",
      " [ 0.26117839]\n",
      " [ 0.28641627]\n",
      " [ 0.31558955]\n",
      " [ 0.34954796]\n",
      " [ 0.38937962]\n",
      " [ 0.43649431]\n",
      " [ 0.49274188]\n",
      " [ 0.5605832 ]\n",
      " [ 0.64334083]\n",
      " [ 0.74557279]\n",
      " [ 0.87363865]\n",
      " [ 1.03656895]\n",
      " [ 1.24741397]\n",
      " [ 1.52533533]\n",
      " [ 1.8987766 ]\n",
      " [ 2.40989377]\n",
      " [ 3.11919703]\n",
      " [ 4.10415021]\n",
      " [ 5.42872877]\n",
      " [ 7.02761295]\n",
      " [ 8.47711857]\n",
      " [ 8.99014122]\n",
      " [ 8.18955262]\n",
      " [ 6.64114067]\n",
      " [ 5.08602639]\n",
      " [ 3.84337363]\n",
      " [ 2.9305457 ]\n",
      " [ 2.2743726 ]\n",
      " [ 1.80035381]\n",
      " [ 1.45258998]\n",
      " [ 1.19260293]\n",
      " [ 0.9944867 ]\n",
      " [ 0.84075727]\n",
      " [ 0.71946566]\n",
      " [ 0.62230978]\n",
      " [ 0.54341862]\n",
      " [ 0.4785672 ]\n",
      " [ 0.4246639 ]\n",
      " [ 0.37941065]\n",
      " [ 0.34107422]\n",
      " [ 0.30832963]\n",
      " [ 0.28015131]\n",
      " [ 0.25573627]\n",
      " [ 0.23444909]\n",
      " [ 0.215782  ]\n",
      " [ 0.1993255 ]\n",
      " [ 0.18474661]\n",
      " [ 0.17177239]\n",
      " [ 0.16017749]\n",
      " [ 0.1497746 ]\n",
      " [ 0.14040704]\n",
      " [ 0.13194292]\n",
      " [ 0.12427067]\n",
      " [ 0.11729534]\n",
      " [ 0.1109358 ]\n",
      " [ 0.10512234]\n",
      " [ 0.09979484]\n",
      " [ 0.09490121]\n",
      " [ 0.09039616]\n",
      " [ 0.08624016]\n",
      " [ 0.08239859]\n",
      " [ 0.07884101]\n",
      " [ 0.07554058]\n",
      " [ 0.07247359]\n",
      " [ 0.06961897]\n",
      " [ 0.06695802]\n",
      " [ 0.06447405]\n",
      " [ 0.06215213]\n",
      " [ 0.0599789 ]\n",
      " [ 0.05794235]\n",
      " [ 0.05603168]\n",
      " [ 0.05423713]\n",
      " [ 0.05254989]\n",
      " [ 0.05096199]\n",
      " [ 0.04946618]\n",
      " [ 0.0480559 ]\n",
      " [ 0.04672514]\n",
      " [ 0.04546844]\n",
      " [ 0.04428082]\n",
      " [ 0.04315772]\n",
      " [ 0.04209494]\n",
      " [ 0.04108867]\n",
      " [ 0.04013538]\n",
      " [ 0.03923183]\n",
      " [ 0.03837503]\n",
      " [ 0.03756225]\n",
      " [ 0.03679094]\n",
      " [ 0.03605875]\n",
      " [ 0.03536353]\n",
      " [ 0.03470326]\n",
      " [ 0.0340761 ]\n",
      " [ 0.03348031]\n",
      " [ 0.03291429]\n",
      " [ 0.03237658]\n",
      " [ 0.03186577]\n",
      " [ 0.03138061]\n",
      " [ 0.03091988]\n",
      " [ 0.03048249]\n",
      " [ 0.0300674 ]\n",
      " [ 0.02967365]\n",
      " [ 0.02930034]\n",
      " [ 0.02894665]\n",
      " [ 0.02861179]\n",
      " [ 0.02829504]\n",
      " [ 0.02799574]\n",
      " [ 0.02771325]\n",
      " [ 0.02744699]\n",
      " [ 0.02719643]\n",
      " [ 0.02696105]\n",
      " [ 0.02674039]\n",
      " [ 0.02653403]\n",
      " [ 0.02634156]\n",
      " [ 0.02616261]\n",
      " [ 0.02599685]\n",
      " [ 0.02584396]\n",
      " [ 0.02570366]]\n"
     ]
    }
   ],
   "source": [
    "print(out1.x) # show the xaxis values\n",
    "print(out1.y) "
   ]
  },
  {
   "cell_type": "markdown",
   "metadata": {},
   "source": [
    "As you can see, they are quite long. Here we just have one detector, however, if we have more we would have more columns of data. To find out which column is which you need to look at the `out.ylabels` array:"
   ]
  },
  {
   "cell_type": "code",
   "execution_count": 12,
   "metadata": {
    "collapsed": false
   },
   "outputs": [
    {
     "name": "stdout",
     "output_type": "stream",
     "text": [
      "['circ']\n"
     ]
    }
   ],
   "source": [
    "print(out1.ylabels)"
   ]
  },
  {
   "cell_type": "markdown",
   "metadata": {},
   "source": [
    "However, the recommended method for accessing the values of a particular detector is by using the detector's name as shown here:"
   ]
  },
  {
   "cell_type": "code",
   "execution_count": 13,
   "metadata": {
    "collapsed": false,
    "scrolled": true
   },
   "outputs": [
    {
     "name": "stdout",
     "output_type": "stream",
     "text": [
      "[ 0.02570366  0.02584396  0.02599685  0.02616261  0.02634156  0.02653403\n",
      "  0.02674039  0.02696105  0.02719643  0.02744699  0.02771325  0.02799574\n",
      "  0.02829504  0.02861179  0.02894665  0.02930034  0.02967365  0.0300674\n",
      "  0.03048249  0.03091988  0.03138061  0.03186577  0.03237658  0.03291429\n",
      "  0.03348031  0.0340761   0.03470326  0.03536353  0.03605875  0.03679094\n",
      "  0.03756225  0.03837503  0.03923183  0.04013538  0.04108867  0.04209494\n",
      "  0.04315772  0.04428082  0.04546844  0.04672514  0.0480559   0.04946618\n",
      "  0.05096199  0.05254989  0.05423713  0.05603168  0.05794235  0.0599789\n",
      "  0.06215213  0.06447405  0.06695802  0.06961897  0.07247359  0.07554058\n",
      "  0.07884101  0.08239859  0.08624016  0.09039616  0.09490121  0.09979484\n",
      "  0.10512234  0.1109358   0.11729534  0.12427067  0.13194292  0.14040704\n",
      "  0.1497746   0.16017749  0.17177239  0.18474661  0.1993255   0.215782\n",
      "  0.23444909  0.25573627  0.28015131  0.30832963  0.34107422  0.37941065\n",
      "  0.4246639   0.4785672   0.54341862  0.62230978  0.71946566  0.84075727\n",
      "  0.9944867   1.19260293  1.45258998  1.80035381  2.2743726   2.9305457\n",
      "  3.84337363  5.08602639  6.64114067  8.18955262  8.99014122  8.47711857\n",
      "  7.02761295  5.42872877  4.10415021  3.11919703  2.40989377  1.8987766\n",
      "  1.52533533  1.24741397  1.03656895  0.87363865  0.74557279  0.64334083\n",
      "  0.5605832   0.49274188  0.43649431  0.38937962  0.34954796  0.31558955\n",
      "  0.28641627  0.26117839  0.23920511  0.2199616   0.20301745  0.18802332\n",
      "  0.17469339  0.16279207  0.15212384  0.14252537  0.1338594   0.12600993\n",
      "  0.11887839  0.11238062  0.10644441  0.10100752  0.09601611  0.09142339\n",
      "  0.08718855  0.08327588  0.07965401  0.07629532  0.07317539  0.07027256\n",
      "  0.06756762  0.06504341  0.06268462  0.06047753  0.05840984  0.05647046\n",
      "  0.05464941  0.05293767  0.05132707  0.04981021  0.04838036  0.0470314\n",
      "  0.04575774  0.04455429  0.0434164   0.04233979  0.04132055  0.0403551\n",
      "  0.03944012  0.03857258  0.03774967  0.03696882  0.03622763  0.03552389\n",
      "  0.03485558  0.03422078  0.03361776  0.03304488  0.03250063  0.03198361\n",
      "  0.03149252  0.03102615  0.03058336  0.03016311  0.02976442  0.02938638\n",
      "  0.02902815  0.02868892  0.02836798  0.02806463  0.02777824  0.02750821\n",
      "  0.027254    0.02701509  0.02679101  0.02658132  0.02638562  0.02620352\n",
      "  0.02603468  0.02587879  0.02573555  0.02560471  0.02548601  0.02537926\n",
      "  0.02528424  0.02520079  0.02512877  0.02506804  0.0250185   0.02498006\n",
      "  0.02495265  0.02493622  0.02493075  0.02493622  0.02495265  0.02498006\n",
      "  0.0250185   0.02506804  0.02512877  0.02520079  0.02528424  0.02537926\n",
      "  0.02548601  0.02560471  0.02573555  0.02587879  0.02603468  0.02620352\n",
      "  0.02638562  0.02658132  0.02679101  0.02701509  0.027254    0.02750821\n",
      "  0.02777824  0.02806463  0.02836798  0.02868892  0.02902815  0.02938638\n",
      "  0.02976442  0.03016311  0.03058336  0.03102615  0.03149252  0.03198361\n",
      "  0.03250063  0.03304488  0.03361776  0.03422078  0.03485558  0.03552389\n",
      "  0.03622763  0.03696882  0.03774967  0.03857258  0.03944012  0.0403551\n",
      "  0.04132055  0.04233979  0.0434164   0.04455429  0.04575774  0.0470314\n",
      "  0.04838036  0.04981021  0.05132707  0.05293767  0.05464941  0.05647046\n",
      "  0.05840984  0.06047753  0.06268462  0.06504341  0.06756762  0.07027256\n",
      "  0.07317539  0.07629532  0.07965401  0.08327588  0.08718855  0.09142339\n",
      "  0.09601611  0.10100752  0.10644441  0.11238062  0.11887839  0.12600993\n",
      "  0.1338594   0.14252537  0.15212384  0.16279207  0.17469339  0.18802332\n",
      "  0.20301745  0.2199616   0.23920511  0.26117839  0.28641627  0.31558955\n",
      "  0.34954796  0.38937962  0.43649431  0.49274188  0.5605832   0.64334083\n",
      "  0.74557279  0.87363865  1.03656895  1.24741397  1.52533533  1.8987766\n",
      "  2.40989377  3.11919703  4.10415021  5.42872877  7.02761295  8.47711857\n",
      "  8.99014122  8.18955262  6.64114067  5.08602639  3.84337363  2.9305457\n",
      "  2.2743726   1.80035381  1.45258998  1.19260293  0.9944867   0.84075727\n",
      "  0.71946566  0.62230978  0.54341862  0.4785672   0.4246639   0.37941065\n",
      "  0.34107422  0.30832963  0.28015131  0.25573627  0.23444909  0.215782\n",
      "  0.1993255   0.18474661  0.17177239  0.16017749  0.1497746   0.14040704\n",
      "  0.13194292  0.12427067  0.11729534  0.1109358   0.10512234  0.09979484\n",
      "  0.09490121  0.09039616  0.08624016  0.08239859  0.07884101  0.07554058\n",
      "  0.07247359  0.06961897  0.06695802  0.06447405  0.06215213  0.0599789\n",
      "  0.05794235  0.05603168  0.05423713  0.05254989  0.05096199  0.04946618\n",
      "  0.0480559   0.04672514  0.04546844  0.04428082  0.04315772  0.04209494\n",
      "  0.04108867  0.04013538  0.03923183  0.03837503  0.03756225  0.03679094\n",
      "  0.03605875  0.03536353  0.03470326  0.0340761   0.03348031  0.03291429\n",
      "  0.03237658  0.03186577  0.03138061  0.03091988  0.03048249  0.0300674\n",
      "  0.02967365  0.02930034  0.02894665  0.02861179  0.02829504  0.02799574\n",
      "  0.02771325  0.02744699  0.02719643  0.02696105  0.02674039  0.02653403\n",
      "  0.02634156  0.02616261  0.02599685  0.02584396  0.02570366]\n"
     ]
    }
   ],
   "source": [
    "print(out1[\"circ\"])"
   ]
  },
  {
   "cell_type": "markdown",
   "metadata": {},
   "source": [
    "# 5. Your Tasks"
   ]
  },
  {
   "cell_type": "markdown",
   "metadata": {},
   "source": [
    "The following sections provide some simple tasks to get you back up and running with Finesse and Pykat.\n",
    "\n",
    "You should **help each other**, **work in groups**, organise yourselves and don't forget to ask for help if needed!"
   ]
  },
  {
   "cell_type": "markdown",
   "metadata": {},
   "source": [
    "## 5.1 Task 1: Copy and run an exisiting Finesse example"
   ]
  },
  {
   "cell_type": "markdown",
   "metadata": {},
   "source": [
    "Copy the example code on <a href=\"http://www.gwoptics.org/finesse/examples/mirror_shake.php\">radiation pressure effects</a> from the Finesse pages and run it in this notebook."
   ]
  },
  {
   "cell_type": "markdown",
   "metadata": {},
   "source": [
    "## 5.2 Task 2: Plot the results from Task 1"
   ]
  },
  {
   "cell_type": "markdown",
   "metadata": {},
   "source": [
    "Plot the results from Task 1. "
   ]
  }
 ],
 "metadata": {
  "kernelspec": {
   "display_name": "Python 3",
   "language": "python",
   "name": "python3"
  },
  "language_info": {
   "codemirror_mode": {
    "name": "ipython",
    "version": 3
   },
   "file_extension": ".py",
   "mimetype": "text/x-python",
   "name": "python",
   "nbconvert_exporter": "python",
   "pygments_lexer": "ipython3",
   "version": "3.5.1"
  }
 },
 "nbformat": 4,
 "nbformat_minor": 0
}

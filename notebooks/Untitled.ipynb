{
 "cells": [
  {
   "cell_type": "markdown",
   "metadata": {
    "collapsed": true
   },
   "source": [
    "# Test to see how the IFSharp works \n",
    "Here I'll try to see if it's possible to substitute the fsharp files with IFSharp"
   ]
  },
  {
   "cell_type": "markdown",
   "metadata": {},
   "source": [
    "First reference libraries and open namespace"
   ]
  },
  {
   "cell_type": "code",
   "execution_count": 2,
   "metadata": {
    "collapsed": true
   },
   "outputs": [],
   "source": [
    "// test on forward ray tacing\n",
    "#r @\"C:\\Users\\Jose M. Gonzalez\\OneDrive\\Phd\\render\\ray casting\\Sample parts for version 2\\Library1\\Types\\bin\\Debug\\Types.dll\"\n",
    "#r @\"C:\\Users\\Jose M. Gonzalez\\OneDrive\\Phd\\render\\ray casting\\Sample parts for version 2\\Library1\\RayTracing\\bin\\Debug\\RayTracing.dll\"\n",
    "// libraries referenced\n",
    "\n",
    "\n",
    "open Types.Algebra\n",
    "open Types.ObjectTypes\n",
    "open Types.types\n",
    "open RayTracing.intersections\n",
    "open Microsoft.FSharp.Data.UnitSystems.SI.UnitSymbols\n",
    "open ForwardRayTracing\n",
    "open SaveSensorInfo\n",
    "open Random\n",
    "open System.IO"
   ]
  },
  {
   "cell_type": "markdown",
   "metadata": {},
   "source": [
    "*Create a **ray** and **material library** that will be the base to create the new rays*"
   ]
  },
  {
   "cell_type": "code",
   "execution_count": 3,
   "metadata": {
    "collapsed": true
   },
   "outputs": [],
   "source": [
    "let r = {\n",
    "         Wavelenght = WaveLength(5e-7<m>);\n",
    "         from = Point(0.,00.00,0.0); uvec = UnitVector(1.,1.,0.);\n",
    "         MaxLength = infi;\n",
    "         OpticalPathTravelled = 0.<m>;\n",
    "         NumBounces = 0uy; bounces = [];\n",
    "         MaxDispersions = 1uy;\n",
    "         NumOfParticles = 0;\n",
    "         IndexOfRefraction = 1.\n",
    "         NoiseAdd= [||]\n",
    "        }\n",
    "\n",
    "let mout = [|{MatName= \"Mirror\"; R=1.; T=0.; n=(2.,WaveLength(5e-6 |> LanguagePrimitives.FloatWithMeasure<m>));LambPPM= 0.};\n",
    "             {MatName= \"Glass\"; R=0.; T=1.; n=(1.3,WaveLength(5e-6 |> LanguagePrimitives.FloatWithMeasure<m>));LambPPM= 0.};\n",
    "             {MatName= \"air\"; R=0.; T=1.; n=(1.,WaveLength(5e-6 |> LanguagePrimitives.FloatWithMeasure<m>));LambPPM= 0.}\n",
    "             |]\n",
    "\n",
    "let mat = dict (mout|> Array.map(fun x -> (x.MatName,x)))"
   ]
  },
  {
   "cell_type": "code",
   "execution_count": 4,
   "metadata": {
    "collapsed": false
   },
   "outputs": [
    {
     "data": {
      "text/plain": [
       "{T = 1.0;\n",
       " R = 0.0;\n",
       " n = (1.0, WaveLength 5e-06);\n",
       " LambPPM = 0.0;\n",
       " MatName = \"air\";}"
      ]
     },
     "execution_count": 4,
     "metadata": {},
     "output_type": "execute_result"
    }
   ],
   "source": [
    "mat.[\"air\"]"
   ]
  },
  {
   "cell_type": "markdown",
   "metadata": {},
   "source": [
    "- ## Simulate a simple reflection on a flat surface\n",
    "\n",
    "How? Some rays are generated following a gaussian distribution and in a direction that after a reflection with the first flat surface, they will hit on the circular sensor  \n",
    "```\n",
    " tes\n",
    "\n",
    "```"
   ]
  },
  {
   "cell_type": "markdown",
   "metadata": {},
   "source": [
    "Define the objects"
   ]
  },
  {
   "cell_type": "code",
   "execution_count": 5,
   "metadata": {
    "collapsed": false
   },
   "outputs": [],
   "source": [
    "//\n",
    "//\n",
    "// Next test the rays are reflected on a flat surface\n",
    "//\n",
    "//\n",
    "\n",
    "let nNRM = UnitVector(0.,0.,1.)\n",
    "let Pground = Point(0.,0.,0.)\n",
    "let ground = disc(Pground,100.,nNRM,\"Mirror\",Sensor(),[|(0uy, 0.0)|])  // Disc that represents the ground\n",
    "\n",
    "// Source of Light\n",
    "//  &\n",
    "// sensor\n",
    "\n",
    "let spoint = Point(3.,0.,3.)        // Sensor point centre\n",
    "let lpoint = Point(-3.,0.,3.)       // Light source centre\n",
    "let snrm = UnitVector(-0.5,0.,-1.)   // Sensor Direction\n",
    "let lnrm = UnitVector(1.,0.,-1.)    // Light Direction\n",
    "let sdisc = disc(spoint,3.5,snrm,true)      // Sensor\n",
    "lnrm\n",
    "let objs3 = [|Disc(ground);Disc(sdisc)|]\n"
   ]
  },
  {
   "cell_type": "markdown",
   "metadata": {},
   "source": [
    "Define the rays we will use and perform the intersections"
   ]
  },
  {
   "cell_type": "code",
   "execution_count": 6,
   "metadata": {
    "collapsed": false
   },
   "outputs": [
    {
     "data": {
      "text/plain": [
       "<null>"
      ]
     },
     "execution_count": 6,
     "metadata": {},
     "output_type": "execute_result"
    }
   ],
   "source": [
    "\n",
    "let rotLight = Matrix.RotateVector(UnitVector(0.,0.,1.),lnrm)\n",
    "let manyRay3 = [|0..100000|]   // generate some rays on different directions from random points on the initial surface\n",
    "               |> Array.map(fun x -> let pos = \n",
    "                                            let ipos = Samp2DGauss(0.1,0.)\n",
    "                                            let ip= Point(ipos.[0],ipos.[1],0.)\n",
    "                                            //let ip= Point(0.2,0.2,0.)\n",
    "                                            rotLight.RotatePoint(ip).MoveAndCreateNew(lpoint)\n",
    "                                     ({r with uvec=lnrm; from = pos}))\n",
    "\n",
    "manyRay3.[0].uvec\n",
    "manyRay3|> Array.iter( fun x -> ForwardRay(x,objs3,mat))\n"
   ]
  },
  {
   "cell_type": "markdown",
   "metadata": {},
   "source": [
    "### Process and Plot the result"
   ]
  },
  {
   "cell_type": "code",
   "execution_count": 9,
   "metadata": {
    "collapsed": false
   },
   "outputs": [],
   "source": [
    "let data3 =\n",
    "    match (objs3.[1]) with\n",
    "    | Disc x -> let vox = {Pmin = Point(-x.Radius,-x.Radius,0.); Pmax = Point(x.Radius,x.Radius,0.)}\n",
    "                Some(x.Sensor.SavedData,vox,x.Normal, x.Centre, x.Radius , 450, 450)\n",
    "    | _ -> None\n",
    "\n",
    "\n",
    "//let dat, _, uv2,pt2,rd2,_ ,_= match data3 with Some x -> x"
   ]
  },
  {
   "cell_type": "markdown",
   "metadata": {},
   "source": [
    "Since I have used the Some(x)/None to avoid the error on the output of the match (because I ignore the other object types), I am  accesing to the content of Some(x) matching it on the next code:"
   ]
  },
  {
   "cell_type": "code",
   "execution_count": 12,
   "metadata": {
    "collapsed": false
   },
   "outputs": [
    {
     "name": "stderr",
     "output_type": "stream",
     "text": [
      "input.fsx(1,18): warning FS0025: Incomplete pattern matches on this expression. For example, the value 'None' may indicate a case not covered by the pattern(s)."
     ]
    }
   ],
   "source": [
    "let ndat = match data3 with Some x -> x"
   ]
  },
  {
   "cell_type": "code",
   "execution_count": 13,
   "metadata": {
    "collapsed": false
   },
   "outputs": [
    {
     "data": {
      "text/plain": [
       "<null>"
      ]
     },
     "execution_count": 13,
     "metadata": {},
     "output_type": "execute_result"
    }
   ],
   "source": [
    "\n",
    "let snsrs2 = CreateImage_Points_from_disk(ndat)\n",
    "let pa = Path.Combine( __SOURCE_DIRECTORY__,\"teeest.png\")\n",
    "SensorToImage(snsrs2,pa, 450,450)\n"
   ]
  },
  {
   "cell_type": "markdown",
   "metadata": {
    "collapsed": true
   },
   "source": [
    "Here I have found a problem with the forms on IFSharp. It looks like the forms are not well generated and they produce an empty form. Luckily the file output works and it's correctly saved.  \n",
    "Since the image is saved, then the best option to solve visualize it, it's just using the Markdown syntaxis"
   ]
  },
  {
   "cell_type": "markdown",
   "metadata": {
    "collapsed": true
   },
   "source": [
    "![Previous image](teeest.png)"
   ]
  },
  {
   "cell_type": "code",
   "execution_count": null,
   "metadata": {
    "collapsed": true
   },
   "outputs": [],
   "source": []
  }
 ],
 "metadata": {
  "kernelspec": {
   "display_name": "IFSharp",
   "language": "fsharp",
   "name": "ifsharp"
  },
  "language": "fsharp",
  "language_info": {
   "codemirror_mode": "",
   "file_extension": ".fs",
   "mimetype": "text/x-fsharp",
   "name": "fsharp",
   "nbconvert_exporter": "",
   "pygments_lexer": "",
   "version": "4.3.1.0"
  }
 },
 "nbformat": 4,
 "nbformat_minor": 0
}

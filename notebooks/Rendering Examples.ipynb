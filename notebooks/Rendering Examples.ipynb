{
 "cells": [
  {
   "cell_type": "markdown",
   "metadata": {},
   "source": [
    "## rendering examples\n",
    "The code can perform B&W rendering for some geometrical forms and here I present some examples\n",
    "I don't know how I can use the windows forms in order to show the figures of the objects that can be represented on the notebook\n",
    "\n",
    "Modifying the objects in the *scene* we can obtain some sample images:\n",
    "* A cone and a truncated cone\n",
    "<img src=\"../BackwardRender/cylAndlens.bmp\" width=250 height=250/>\n",
    "* A small sphere before a cylinder\n",
    "<img src=\"../BackwardRender/cyl and sphere.bmp\" width=250 height=250/>\n",
    "\n",
    "And all the types specified on **Types/ObjectTypes.fs** can be rendered, included triangular meshes.\n",
    "\n",
    "The rendering can be done following the next code separated on:\n",
    "* Reference the paths and open modules\n",
    "* Read material list from a file\n",
    "* define objects that can be set in the scene\n",
    "* Perform the rendering (the image is saved on **../BackwardRendering/**)"
   ]
  },
  {
   "cell_type": "code",
   "execution_count": 7,
   "metadata": {
    "collapsed": true
   },
   "outputs": [],
   "source": [
    "// test on forward ray tacing\n",
    "#r @\"..\\Types\\bin\\Debug\\Types.dll\"\n",
    "#r @\"..\\RayTracing\\bin\\Debug\\RayTracing.dll\"\n",
    "#r @\"..\\Preprocessor\\bin\\Debug\\Library1.dll\"\n",
    "\n",
    "// load f# files \n",
    "#load \"..\\BackwardRender\\BackTypes.fs\"\n",
    "#load \"..\\BackwardRender\\SimpleShading.fs\"\n",
    "#load \"..\\BackwardRender\\Camera.fs\"\n",
    "open System.IO\n",
    "#load @\"..\\Preprocessor\\ReadMatLib.fs\"\n",
    "\n",
    "let pi = 3.1415\n",
    "\n",
    "// create a cylinder and a sLens \n",
    "open Microsoft.FSharp.Data.UnitSystems.SI.UnitSymbols\n",
    "open Types.Algebra\n",
    "open Types.ObjectTypes\n",
    "open Types.types\n",
    "open TypesStruct\n",
    "\n",
    "open BackwardRender.Camera\n",
    "open BackwardRender.BackTypes\n"
   ]
  },
  {
   "cell_type": "code",
   "execution_count": 8,
   "metadata": {
    "collapsed": false
   },
   "outputs": [],
   "source": [
    "// I must read a mtlib file and see how it works.\n",
    "open Preprocessor.ReadMatLib\n",
    "let mpath = Path.Combine(__SOURCE_DIRECTORY__, @\"..\\main\\wavefront\\thorlabsIris33.mtl\")\n",
    "\n",
    "// Read the matlib\n",
    "let nmat = ReadMatLib_debug(mpath)\n"
   ]
  },
  {
   "cell_type": "code",
   "execution_count": 33,
   "metadata": {
    "collapsed": false
   },
   "outputs": [],
   "source": [
    "\n",
    "let lens = SphSurfaceLens(Point(5.1,0.,0.1),0.51<m>,0.1<m>,UnitVector(1.,-0.0,0.),true,\"Material__27\")\n",
    "let con = cone(0.1<m>,0.25<m>,Point(4.,-0.2,-0.150),UnitVector(0.,0.,1.),\"Material__27\")\n",
    "\n",
    "let pcon = truncatedCone(0.1<m>,0.25<m>,0.15<m>,Point(4.,0.25,-0.150),UnitVector(0.,0.,1.),\"Material__27\")\n",
    "\n",
    "let cy = cylinder(0.5<m>,1.<m>,Point(0.,-0.,0.),UnitVector(1.,0.,0.),\"Material__27\")\n",
    "\n",
    "let baffle = Create_Baffles(1.<m>,0.5<m>,Point(0.,0.,0.), pi/4.,\n",
    "                            109e-3<m>, UnitVector(1.,0.,0.), \"Material__27\",\n",
    "                            Sensor(), ([||],[||]) ) \n",
    "\n"
   ]
  },
  {
   "cell_type": "code",
   "execution_count": 34,
   "metadata": {
    "collapsed": false
   },
   "outputs": [
    {
     "data": {
      "text/plain": [
       "<null>"
      ]
     },
     "execution_count": 34,
     "metadata": {},
     "output_type": "execute_result"
    }
   ],
   "source": [
    "// Set the camera\n",
    "let Camera = {EyePoint = Point(-2.0,-0.0,-0.0); LookAt= Vector(1.,0.,0.); Up=UnitVector(0.,0.,1.); // iris\n",
    "               PixNumH=300;PixNumW=300;PixSize= 5e-4}\n",
    "// Define the ilumination of the scene (only point lights are possible to define)\n",
    "let light0 = {origin= Point(-2.,-0.0,0.5);intensity = 1.} \n",
    "\n",
    "// Set the scene that you want to render\n",
    "let scene = {Camera=Camera;  Elements=[|Cylinder(cy);Cone(con);TruncatedCone(pcon)|] ; Materials=nmat ; Plights=[|light0|]} //[|SurfaceLens(lens)|]\n",
    "// \n",
    "// Perform the rendering Do_Casting( scene, num_Processors, Use_Octree? )\n",
    "let render = Do_Casting (scene,4,true)\n",
    "let spath = \"cylAndlens.bmp\"\n",
    "\n",
    "// Save the image\n",
    "createBMP(render,spath)\n",
    "\n"
   ]
  }
 ],
 "metadata": {
  "kernelspec": {
   "display_name": "IFSharp",
   "language": "fsharp",
   "name": "ifsharp"
  },
  "language": "fsharp",
  "language_info": {
   "codemirror_mode": "",
   "file_extension": ".fs",
   "mimetype": "text/x-fsharp",
   "name": "fsharp",
   "nbconvert_exporter": "",
   "pygments_lexer": "",
   "version": "4.3.1.0"
  }
 },
 "nbformat": 4,
 "nbformat_minor": 0
}

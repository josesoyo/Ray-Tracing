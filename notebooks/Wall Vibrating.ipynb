{
 "cells": [
  {
   "cell_type": "markdown",
   "metadata": {},
   "source": [
    "# Adding noise into a RT\n",
    "I've been thinking how some frequency noise can be added on RT following the vinyet method, but with multifrequency. This could be done following some steps explained on the next parts.\n",
    "\n",
    "### Previous consideration\n",
    "Initially the simulations will be done with some conditions that will simplify the system. Those considerations are:\n",
    "- Single frequency\n",
    "- only one object will vibrate\n",
    "- Ray direction is normal to the surface\n"
   ]
  },
  {
   "cell_type": "markdown",
   "metadata": {},
   "source": [
    "### About the element\n",
    "On the material, some new properties should be added, the primary new properties should be:\n",
    "- Sequence of Amplitude vectors (instead of Normal + Amplitude module which requires more memory)\n",
    "- frequency of each amplitude vibration  \n",
    "\n",
    "<img src=\"img/mirror_modulation10.svg\" width=200 height=200/>"
   ]
  },
  {
   "cell_type": "markdown",
   "metadata": {},
   "source": [
    "Which would result in a structure that should look like:  \n",
    "\n",
    "    Seq{f_1; f_2; ... ; f_n}    \n",
    "    Seq{n_1; n_2; ...; n_n}"
   ]
  },
  {
   "cell_type": "code",
   "execution_count": 1,
   "metadata": {
    "collapsed": false
   },
   "outputs": [
    {
     "name": "stderr",
     "output_type": "stream",
     "text": [
      "input.fsx(1,1): error FS0039: The value or constructor 'sampling' is not defined"
     ]
    }
   ],
   "source": [
    "sampling\n",
    "ray\n",
    "array howto"
   ]
  },
  {
   "cell_type": "markdown",
   "metadata": {},
   "source": [
    "### About the sampling\n",
    "In order to sample the movement I just should take into account the frequencies that I am addding into the mechanical element and the amplitude to avoid aliasing. This is done due to two effects, the first is the simple Nyquist theorem:\n",
    "$$\\Delta t_{sampling} < T/2 $$\n",
    "\n",
    "And the second one comes from the upconversion phenomena which tell us that\n",
    "$$ f_{max} = n \\cdot f_{obj} $$\n",
    "where $n$ refers to the nonlinear phenomena of upconversion produced because the mechanical object is moving with an amplitude bigger than the wavelength of light, i.e. $ A_{obj} >> \\lambda $. Thus we obtain that\n",
    "$$n = 2 A_{obj} / \\lambda $$\n",
    "\n",
    "\n",
    "$$f_{max} = \\dfrac{2 A_{obj}}{ \\lambda } 2\\pi f_{obj}$$\n",
    "Why there's the $2\\pi$?!?!?  -> stupid you forgot it!\n",
    "This means for a frequency of 1Hz at least I should sample at more than 2Hz, but more should be done"
   ]
  },
  {
   "cell_type": "markdown",
   "metadata": {
    "collapsed": true
   },
   "source": [
    "In any case, in order to do the sampling, first I should add into the object the vibration in the next way:\n",
    "$$([|\\,(\\vec{A}_1 , f_1 );...;(\\vec{A}_i , f_i );...; (\\vec{A}_n , f_n )\\, |],  [|\\, t_1 ; ... ; t_n \\,|]) $$\n",
    "And the time sampling must be computed after the object is read. I mean it's done with the noise **(create a noise type)** and the input on the material is only the array of frequencies and amplitudes"
   ]
  },
  {
   "cell_type": "markdown",
   "metadata": {},
   "source": [
    "## How to modify the ray\n",
    "Once the ray hits the object which is vibrating, the ray must store the noise \n",
    "\n",
    "Since one of the members of the ray already is the noise, this means that the modifications must be applied on the noise type. Thus the noise will result as: $((\\vec{A}, f ), [|..t..|]) $ And results something like:\n",
    "$$ray = \\{ray \\;with\\; PhaseModulation =  [|\\phi (t_0 )..\\phi (t_i )..|]) \\} $$"
   ]
  },
  {
   "cell_type": "markdown",
   "metadata": {},
   "source": [
    "## How to modify the objects\n",
    "When the objects are modified, they also have to include the times at which the displacement of the vibrating objects is going to me computed. How?.."
   ]
  },
  {
   "cell_type": "markdown",
   "metadata": {},
   "source": [
    "## Shading\n",
    "The shading is the last and probably one of the most important parts of the code since expresses the interaction between the material and the light.\n",
    "In my case I need:\n",
    "\n",
    "    let PhaseModulation = t |> Array.map(fun x -> (2*PI/wavelengt)*A*sin(2*PI*f) )\n",
    "\n",
    "And this is inside a funciton called **PhaseModulation**"
   ]
  },
  {
   "cell_type": "code",
   "execution_count": 16,
   "metadata": {
    "collapsed": true
   },
   "outputs": [],
   "source": [
    "// test on forward ray tacing\n",
    "#r @\"C:\\Users\\Jose M. Gonzalez\\OneDrive\\Phd\\render\\ray casting\\Sample parts for version 2\\Library1\\Types\\bin\\Debug\\Types.dll\"\n",
    "#r @\"C:\\Users\\Jose M. Gonzalez\\OneDrive\\Phd\\render\\ray casting\\Sample parts for version 2\\Library1\\RayTracing\\bin\\Debug\\RayTracing.dll\"\n",
    "// libraries referenced\n",
    "\n",
    "\n",
    "open Types.Algebra\n",
    "open Types.ObjectTypes\n",
    "open Types.types\n",
    "open RayTracing.intersections\n",
    "open Microsoft.FSharp.Data.UnitSystems.SI.UnitSymbols\n",
    "open ForwardRayTracing\n",
    "open SaveSensorInfo\n",
    "open Random\n",
    "open System.IO"
   ]
  },
  {
   "cell_type": "code",
   "execution_count": 17,
   "metadata": {
    "collapsed": true
   },
   "outputs": [],
   "source": [
    "let r = {\n",
    "         Wavelenght = WaveLength(5e-7<m>);\n",
    "         from = Point(0.,00.00,0.5); uvec = UnitVector(0.,0.,-1.);\n",
    "         MaxLength = infi;\n",
    "         OpticalPathTravelled = 0.<m>;\n",
    "         NumBounces = 0uy; bounces = [];\n",
    "         MaxDispersions = 1uy;\n",
    "         NumOfParticles = 1;\n",
    "         IndexOfRefraction = 1.\n",
    "         NoiseAdd= [||]\n",
    "         PhaseModulation = [||]\n",
    "        }\n",
    "\n",
    "let mout = [|{MatName= \"Mirror\"; R=1.; T=0.; n=(2.,WaveLength(5e-6 |> LanguagePrimitives.FloatWithMeasure<m>));LambPPM= 0.};\n",
    "             {MatName= \"Glass\"; R=0.; T=1.; n=(1.3,WaveLength(5e-6 |> LanguagePrimitives.FloatWithMeasure<m>));LambPPM= 0.};\n",
    "             {MatName= \"air\"; R=0.; T=1.; n=(1.,WaveLength(5e-6 |> LanguagePrimitives.FloatWithMeasure<m>));LambPPM= 0.}\n",
    "             |]\n",
    "\n",
    "let mat = dict (mout|> Array.map(fun x -> (x.MatName,x)))"
   ]
  },
  {
   "cell_type": "code",
   "execution_count": 18,
   "metadata": {
    "collapsed": false
   },
   "outputs": [
    {
     "data": {
      "text/plain": [
       "{Wavelenght = WaveLength 5e-07;\n",
       " from = Types.Algebra+Point;\n",
       " uvec = Types.Algebra+UnitVector;\n",
       " MaxLength = infinity;\n",
       " OpticalPathTravelled = 0.0;\n",
       " NumBounces = 0uy;\n",
       " MaxDispersions = 1uy;\n",
       " bounces = [];\n",
       " NumOfParticles = 1;\n",
       " IndexOfRefraction = 1.0;\n",
       " NoiseAdd = [||];\n",
       " PhaseModulation = [||];}"
      ]
     },
     "execution_count": 18,
     "metadata": {},
     "output_type": "execute_result"
    }
   ],
   "source": [
    "r"
   ]
  },
  {
   "cell_type": "markdown",
   "metadata": {},
   "source": [
    "## Simulate the reflection\n",
    "The reflection is on a flat surface with the normal parallel to the ray direction as specified on the first image.\n",
    "**More on the python doc **\n",
    "\n",
    "Cases I want to show for the phase change:\n",
    "\n",
    "- One with the simple case of the phase change going further than $\\pi$\n",
    "- One with the mod(phase) -  done on the original code\n",
    "- One with some modifications on the simple output - modifications on python"
   ]
  },
  {
   "cell_type": "code",
   "execution_count": 54,
   "metadata": {
    "collapsed": false
   },
   "outputs": [],
   "source": [
    "//\n",
    "//\n",
    "// Next test the rays are reflected on a flat surface\n",
    "//\n",
    "//\n",
    "\n",
    "let nNRM = UnitVector(0.,0.,1.)\n",
    "let Pground = Point(0.,0.,0.)\n",
    "let t = [|(0.)..(1./180.)..4.|]   // Temporal series for the phase scan\n",
    "let vibration = [|(1uy, Vector(0.,0.,0.45e-6),t)|]\n",
    "let ground = disc(Pground,100.,nNRM,\"Mirror\",Sensor(),vibration)  // Disc that represents the ground\n",
    "\n",
    "// Source of Light\n",
    "//  &\n",
    "// sensor\n",
    "\n",
    "let spoint = Point(0.,0.,3.)        // Sensor point centre\n",
    "let lpoint = Point(0.,0.,3.)       // Light source centre\n",
    "let snrm = UnitVector(0.0,0.,-1.)   // Sensor Direction\n",
    "let lnrm = UnitVector(0.,0.,-1.)    // Light Direction\n",
    "let sdisc = disc(spoint,3.5,snrm,true)      // Sensor\n",
    "lnrm\n",
    "let objs3 = [|Disc(ground);Disc(sdisc)|]\n"
   ]
  },
  {
   "cell_type": "code",
   "execution_count": 55,
   "metadata": {
    "collapsed": false
   },
   "outputs": [
    {
     "data": {
      "text/plain": [
       "721"
      ]
     },
     "execution_count": 55,
     "metadata": {},
     "output_type": "execute_result"
    }
   ],
   "source": [
    "Array.length t//ground."
   ]
  },
  {
   "cell_type": "code",
   "execution_count": 56,
   "metadata": {
    "collapsed": false
   },
   "outputs": [
    {
     "data": {
      "text/plain": [
       "<null>"
      ]
     },
     "execution_count": 56,
     "metadata": {},
     "output_type": "execute_result"
    }
   ],
   "source": [
    "[|r|] |> Array.iter(fun x -> ForwardRay(x,objs3,mat) )"
   ]
  },
  {
   "cell_type": "code",
   "execution_count": 57,
   "metadata": {
    "collapsed": false
   },
   "outputs": [
    {
     "data": {
      "text/plain": [
       "<null>"
      ]
     },
     "execution_count": 57,
     "metadata": {},
     "output_type": "execute_result"
    }
   ],
   "source": [
    "sdisc.Sensor.SavedData.[0]\n",
    "\n",
    "let ph = sdisc.Sensor.SavedData.[0].Noise |> Array.map(fun c -> string(c)) // :? Array\n",
    "open System.IO\n",
    "File.WriteAllLines(@\"Vibration_045mu.txt\", ph );"
   ]
  },
  {
   "cell_type": "code",
   "execution_count": 33,
   "metadata": {
    "collapsed": false
   },
   "outputs": [],
   "source": [
    "//ph |> Array.map(fun x ->  x\n",
    "//ph.Length |> Display\n",
    "//ph.[80..160] |> Display\n",
    "//phar |> List.map (fun x -> snd x)"
   ]
  },
  {
   "cell_type": "code",
   "execution_count": null,
   "metadata": {
    "collapsed": false
   },
   "outputs": [],
   "source": []
  },
  {
   "cell_type": "code",
   "execution_count": 60,
   "metadata": {
    "collapsed": false
   },
   "outputs": [
    {
     "data": {
      "text/plain": [
       "(5.654866776, 12.56637061, 100.5309649)"
      ]
     },
     "execution_count": 60,
     "metadata": {},
     "output_type": "execute_result"
    }
   ],
   "source": [
    "// Test to see which one is the fmax\n",
    "let fmax A f lambda = 2.*2.*PI*(A/lambda)*f\n",
    "let A0 = 0.45e-6\n",
    "let A1 = 1e-6\n",
    "let A2 = 8e-6\n",
    "let fa = 1.\n",
    "let lamb = 1e-6\n",
    "\n",
    "let fm A = fmax A fa lamb\n",
    "(fm(A0),fm(A1), fm(A2))"
   ]
  },
  {
   "cell_type": "markdown",
   "metadata": {
    "collapsed": true
   },
   "source": [
    "**Test for plot with F# Charting **\n",
    "\n",
    "There's no need to reference the binary since it's intalled on Jupyter..."
   ]
  },
  {
   "cell_type": "code",
   "execution_count": 2,
   "metadata": {
    "collapsed": false
   },
   "outputs": [
    {
     "data": {
      "image/png": "[encoded data removed]"
     },
     "metadata": {},
     "output_type": "display_data"
    }
   ],
   "source": [
    "let data = [1..100]\n",
    "Chart.Line(data) |> Chart.WithTitle(\"hello\") |> Chart.WithSize(500, 500)|> Display"
   ]
  },
  {
   "cell_type": "code",
   "execution_count": null,
   "metadata": {
    "collapsed": true
   },
   "outputs": [],
   "source": []
  }
 ],
 "metadata": {
  "kernelspec": {
   "display_name": "IFSharp",
   "language": "fsharp",
   "name": "ifsharp"
  },
  "language": "fsharp",
  "language_info": {
   "codemirror_mode": "",
   "file_extension": ".fs",
   "mimetype": "text/x-fsharp",
   "name": "fsharp",
   "nbconvert_exporter": "",
   "pygments_lexer": "",
   "version": "4.3.1.0"
  }
 },
 "nbformat": 4,
 "nbformat_minor": 0
}
